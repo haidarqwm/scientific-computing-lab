{
  "nbformat": 4,
  "nbformat_minor": 0,
  "metadata": {
    "colab": {
      "provenance": [],
      "authorship_tag": "ABX9TyML0jzAPzARF6mbEJku0X6e",
      "include_colab_link": true
    },
    "kernelspec": {
      "name": "python3",
      "display_name": "Python 3"
    },
    "language_info": {
      "name": "python"
    }
  },
  "cells": [
    {
      "cell_type": "markdown",
      "metadata": {
        "id": "view-in-github",
        "colab_type": "text"
      },
      "source": [
        "<a href=\"https://colab.research.google.com/github/haidarqwm/scientific-computing-lab/blob/main/pertemuan%20keempat/sesi04_Newton_Raphson.ipynb\" target=\"_parent\"><img src=\"https://colab.research.google.com/assets/colab-badge.svg\" alt=\"Open In Colab\"/></a>"
      ]
    },
    {
      "cell_type": "code",
      "execution_count": null,
      "metadata": {
        "colab": {
          "base_uri": "https://localhost:8080/"
        },
        "id": "L-bjWRl02y4x",
        "outputId": "f2b72c9d-3c8b-4635-b994-6a7011571204"
      },
      "outputs": [
        {
          "output_type": "stream",
          "name": "stdout",
          "text": [
            "newton_raphson = 1.4142857142857144\n",
            "sqrt(2) = 1.4142135623730951\n"
          ]
        }
      ],
      "source": [
        "import numpy as np\n",
        "\n",
        "f = lambda x: x**2 - 2\n",
        "f_prime = lambda x: 2*x\n",
        "newton_raphson = 1.4 - (f(1.4)) / (f_prime(1.4))\n",
        "\n",
        "print(\"newton_raphson =\", newton_raphson)\n",
        "print(\"sqrt(2) =\", np.sqrt(2))"
      ]
    },
    {
      "cell_type": "code",
      "source": [
        "def my_newton(f, df, x0, tol):\n",
        "    # output is an estimation of the root of f\n",
        "    # using the Newton Raphson method\n",
        "    # recursive implementation\n",
        "    if abs(f(x0)) < tol:\n",
        "      return x0\n",
        "    else:\n",
        "        return my_newton(f, df, x0 - f(x0)/df(x0), tol)"
      ],
      "metadata": {
        "id": "_NSt7C6o4Ddc"
      },
      "execution_count": null,
      "outputs": []
    },
    {
      "cell_type": "code",
      "source": [
        "estimate = my_newton(f, f_prime, 1.5, 1e-6)\n",
        "print(\"estimate =\", estimate)\n",
        "print(\"sqrt(2)\", np.sqrt(2))"
      ],
      "metadata": {
        "colab": {
          "base_uri": "https://localhost:8080/"
        },
        "id": "xdPLJ5Wv4uWW",
        "outputId": "bf968f4e-efca-4b97-81b9-dba8c40aa7cb"
      },
      "execution_count": null,
      "outputs": [
        {
          "output_type": "stream",
          "name": "stdout",
          "text": [
            "estimate = 1.4142135623746899\n",
            "sqrt(2) 1.4142135623730951\n"
          ]
        }
      ]
    },
    {
      "cell_type": "markdown",
      "source": [
        "QUIZ 1 NEWTON RAPHSON\n",
        "\n",
        "f(x)=x^3-3x^2+2x\n",
        "\n",
        "x0=1.5\n",
        "\n",
        "tol=0.001"
      ],
      "metadata": {
        "id": "hJcrXNK27e_m"
      }
    },
    {
      "cell_type": "code",
      "source": [
        "import numpy as np\n",
        "\n",
        "f = lambda x: x**3 - 3*x**2 + 2*x\n",
        "f_prime = lambda x: 3*x**2 - 6*x + 2\n",
        "newton_raphson = 1.5 - (f(1.5)) / (f_prime(1.5))\n",
        "\n",
        "estimate = my_newton(f, f_prime, 1.5, 0.001)\n",
        "\n",
        "print(\"newton_raphson =\", newton_raphson)\n",
        "print(\"sqrt(2) =\", np.sqrt(2))\n",
        "\n",
        "print(\"estimate =\", estimate)\n",
        "print(\"sqrt(2)\", np.sqrt(2))"
      ],
      "metadata": {
        "colab": {
          "base_uri": "https://localhost:8080/"
        },
        "id": "YkrKxo8O8CVV",
        "outputId": "1a5c99ba-cb96-4548-c916-446e628fbef4"
      },
      "execution_count": null,
      "outputs": [
        {
          "output_type": "stream",
          "name": "stdout",
          "text": [
            "newton_raphson = 0.0\n",
            "sqrt(2) = 1.4142135623730951\n",
            "estimate = 0.0\n",
            "sqrt(2) 1.4142135623730951\n"
          ]
        }
      ]
    },
    {
      "cell_type": "markdown",
      "source": [
        "QUIZ 2 NEWTON RAPHSON\n",
        "\n",
        "f(x)=e^x-2x\n",
        "\n",
        "x0=1\n",
        "\n",
        "tol=0.001"
      ],
      "metadata": {
        "id": "MfwAUC_mwW42"
      }
    },
    {
      "cell_type": "code",
      "source": [
        "import numpy as np\n",
        "\n",
        "e = 2.718281\n",
        "\n",
        "f = lambda x: x**e - 2*x\n",
        "f_prime = lambda x: e*x - 2\n",
        "newton_raphson = 1 - (f(1)) / (f_prime(1))\n",
        "\n",
        "print(\"newton_raphson =\", newton_raphson)\n",
        "print(\"sqrt(2) =\", np.sqrt(2))"
      ],
      "metadata": {
        "colab": {
          "base_uri": "https://localhost:8080/"
        },
        "id": "6Ww9TgsvwmKj",
        "outputId": "b1766866-921d-4f2a-ac33-bfc4cd431da2"
      },
      "execution_count": null,
      "outputs": [
        {
          "output_type": "stream",
          "name": "stdout",
          "text": [
            "newton_raphson = 2.3922127969415863\n",
            "sqrt(2) = 1.4142135623730951\n"
          ]
        }
      ]
    }
  ]
}